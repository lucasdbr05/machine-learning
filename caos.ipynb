{
 "cells": [
  {
   "cell_type": "code",
   "execution_count": 163,
   "metadata": {},
   "outputs": [],
   "source": [
    "from random import choice, shuffle\n",
    "import seaborn as sns\n",
    "\n",
    "class Academia(object):\n",
    "    def __init__(self, halters_max_w):\n",
    "        self.halteres = [i for i in range(10, halters_max_w+1) if (i%2)==0]\n",
    "        self.porta_halteres = {i:i for i in self.halteres}\n",
    "\n",
    "    def organiza_halteres(self):\n",
    "        self.porta_halteres = {i:i for i in self.halteres}\n",
    "\n",
    "    def halteres_disponiveis(self):\n",
    "        return [halt for halt in self.porta_halteres.values() if halt!=0]\n",
    "    \n",
    "    def espacos_disponiveis(self):\n",
    "        return [pos for (pos,halt) in self.porta_halteres.items() if halt==0]\n",
    "    \n",
    "    def pegar_hater(self, peso):\n",
    "        halt_pos = list(self.porta_halteres.values()).index(peso)\n",
    "        key_halt = list(self.porta_halteres.keys())[halt_pos]\n",
    "        self.porta_halteres[key_halt] = 0\n",
    "        return peso\n",
    "\n",
    "    def devolver_halter(self, pos, peso):\n",
    "        self.porta_halteres[pos]=peso\n",
    "\n",
    "    def calcular_caos(self):\n",
    "        num_caos = [i for (i, j) in self.porta_halteres.items() if (i!=j)]\n",
    "        return len(num_caos)/len(self.halteres)\n",
    "\n"
   ]
  },
  {
   "cell_type": "code",
   "execution_count": 164,
   "metadata": {},
   "outputs": [],
   "source": [
    "class Usuario:\n",
    "    def __init__(self, tipo, academia):\n",
    "        self.tipo = tipo # true:normal | false:bagunceiro\n",
    "        self.academia = academia \n",
    "        self.peso = 0 \n",
    "    \n",
    "    def iniciar_treino(self):\n",
    "        pesos = self.academia.halteres_disponiveis()\n",
    "        self.peso = choice(pesos) \n",
    "        self.academia.pegar_hater(self.peso)\n",
    "\n",
    "    def finalizar_treino(self):\n",
    "        espacos = self.academia.espacos_disponiveis()\n",
    "        if self.tipo:\n",
    "            if self.peso in espacos:\n",
    "                self.academia.devolver_halter(self.peso, self.peso)\n",
    "            else:\n",
    "                self.academia.devolver_halter(choice(espacos), self.peso)\n",
    "        else:\n",
    "                self.academia.devolver_halter(choice(espacos), self.peso)\n",
    "        self.peso = 0\n",
    "\n"
   ]
  },
  {
   "cell_type": "code",
   "execution_count": 165,
   "metadata": {},
   "outputs": [
    {
     "name": "stdout",
     "output_type": "stream",
     "text": [
      "0.5686956521739129\n"
     ]
    }
   ],
   "source": [
    "academia = Academia(100)\n",
    "users = list()\n",
    "users += [Usuario(True, academia) for _ in range(20)]\n",
    "users += [Usuario(False,academia) for _ in range(2)]\n",
    "\n",
    "shuffle(users)\n",
    "\n",
    "list_chaos = []\n",
    "for __ in range(50):\n",
    "    for _ in range(10):\n",
    "        shuffle(users)\n",
    "        for user in users:\n",
    "            user.iniciar_treino()\n",
    "        for user in users:   \n",
    "            user.finalizar_treino()\n",
    "    list_chaos+= [academia.calcular_caos()]\n",
    "\n",
    "\n",
    "\n",
    "print(sum(list_chaos)/len(list_chaos))"
   ]
  },
  {
   "cell_type": "code",
   "execution_count": 166,
   "metadata": {},
   "outputs": [
    {
     "data": {
      "text/plain": [
       "<seaborn.axisgrid.FacetGrid at 0x1d6a5ced190>"
      ]
     },
     "execution_count": 166,
     "metadata": {},
     "output_type": "execute_result"
    },
    {
     "data": {
      "image/png": "[encoded data removed]",
      "text/plain": [
       "<Figure size 500x500 with 1 Axes>"
      ]
     },
     "metadata": {},
     "output_type": "display_data"
    }
   ],
   "source": [
    "\n",
    "\n",
    "sns.displot(list_chaos)"
   ]
  },
  {
   "cell_type": "code",
   "execution_count": 167,
   "metadata": {},
   "outputs": [
    {
     "data": {
      "text/plain": [
       "<seaborn.axisgrid.FacetGrid at 0x1d6a5d4dc50>"
      ]
     },
     "execution_count": 167,
     "metadata": {},
     "output_type": "execute_result"
    },
    {
     "data": {
      "image/png": "[encoded data removed]",
      "text/plain": [
       "<Figure size 500x500 with 1 Axes>"
      ]
     },
     "metadata": {},
     "output_type": "display_data"
    }
   ],
   "source": [
    "academia = Academia(36)\n",
    "users = list()\n",
    "users += [Usuario(True, academia) for _ in range(10)]\n",
    "users += [Usuario(False,academia) for _ in range(1)]\n",
    "\n",
    "shuffle(users)\n",
    "\n",
    "list_chaos = []\n",
    "for __ in range(50):\n",
    "    for _ in range(10):\n",
    "        shuffle(users)\n",
    "        for user in users:\n",
    "            user.iniciar_treino()\n",
    "        for user in users:   \n",
    "            user.finalizar_treino()\n",
    "    list_chaos+= [academia.calcular_caos()]\n",
    "\n",
    "sns.displot(list_chaos)\n"
   ]
  }
 ],
 "metadata": {
  "kernelspec": {
   "display_name": "Python 3",
   "language": "python",
   "name": "python3"
  },
  "language_info": {
   "codemirror_mode": {
    "name": "ipython",
    "version": 3
   },
   "file_extension": ".py",
   "mimetype": "text/x-python",
   "name": "python",
   "nbconvert_exporter": "python",
   "pygments_lexer": "ipython3",
   "version": "3.11.2"
  }
 },
 "nbformat": 4,
 "nbformat_minor": 2
}
