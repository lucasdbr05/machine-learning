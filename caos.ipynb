{
 "cells": [
  {
   "cell_type": "code",
   "execution_count": 150,
   "metadata": {},
   "outputs": [],
   "source": [
    "from random import choice, shuffle\n",
    "\n",
    "class Academia(object):\n",
    "    def __init__(self):\n",
    "        self.halteres = [i for i in range(10, 36+1) if (i%2)==0]\n",
    "        self.porta_halteres = {i:i for i in self.halteres}\n",
    "\n",
    "    def organiza_halteres(self):\n",
    "        self.porta_halteres = {i:i for i in self.halteres}\n",
    "\n",
    "    def halteres_disponiveis(self):\n",
    "        return [halt for halt in self.porta_halteres.values() if halt!=0]\n",
    "    \n",
    "    def espacos_disponiveis(self):\n",
    "        return [pos for (pos,halt) in self.porta_halteres.items() if halt==0]\n",
    "    \n",
    "    def pegar_hater(self, peso):\n",
    "        halt_pos = list(self.porta_halteres.values()).index(peso)\n",
    "        key_halt = list(self.porta_halteres.keys())[halt_pos]\n",
    "        self.porta_halteres[key_halt] = 0\n",
    "        return peso\n",
    "\n",
    "    def devolver_halter(self, pos, peso):\n",
    "        self.porta_halteres[pos]=peso\n",
    "\n",
    "    def calcular_caos(self):\n",
    "        num_caos = [i for (i, j) in self.porta_halteres.items() if (i!=j)]\n",
    "        return len(num_caos)/len(self.halteres)\n",
    "\n"
   ]
  },
  {
   "cell_type": "code",
   "execution_count": 151,
   "metadata": {},
   "outputs": [],
   "source": [
    "class Usuario:\n",
    "    def __init__(self, tipo, academia):\n",
    "        self.tipo = tipo # true:normal | false:bagunceiro\n",
    "        self.academia = academia \n",
    "        self.peso = 0 \n",
    "    \n",
    "    def iniciar_treino(self):\n",
    "        pesos = self.academia.halteres_disponiveis()\n",
    "        self.peso = choice(pesos) \n",
    "        self.academia.pegar_hater(self.peso)\n",
    "\n",
    "    def finalizar_treino(self):\n",
    "        espacos = self.academia.espacos_disponiveis()\n",
    "        if self.tipo:\n",
    "            if self.peso in espacos:\n",
    "                self.academia.devolver_halter(self.peso, self.peso)\n",
    "            else:\n",
    "                self.academia.devolver_halter(choice(espacos), self.peso)\n",
    "        else:\n",
    "                self.academia.devolver_halter(choice(espacos), self.peso)\n",
    "        self.peso = 0\n",
    "\n"
   ]
  },
  {
   "cell_type": "code",
   "execution_count": 152,
   "metadata": {},
   "outputs": [
    {
     "name": "stdout",
     "output_type": "stream",
     "text": [
      "0.28428571428571425\n"
     ]
    }
   ],
   "source": [
    "academia = Academia()\n",
    "users = list()\n",
    "users += [Usuario(True, academia) for _ in range(10)]\n",
    "users += [Usuario(False,academia)]\n",
    "\n",
    "shuffle(users)\n",
    "\n",
    "list_chaos = []\n",
    "for __ in range(50):\n",
    "    for _ in range(10):\n",
    "        shuffle(users)\n",
    "        for user in users:\n",
    "            user.iniciar_treino()\n",
    "        for user in users:   \n",
    "            user.finalizar_treino()\n",
    "    list_chaos+= [academia.calcular_caos()]\n",
    "\n",
    "\n",
    "\n",
    "print(sum(list_chaos)/len(list_chaos))"
   ]
  },
  {
   "cell_type": "code",
   "execution_count": 153,
   "metadata": {},
   "outputs": [
    {
     "ename": "ModuleNotFoundError",
     "evalue": "No module named 'seaborn'",
     "output_type": "error",
     "traceback": [
      "\u001b[1;31m---------------------------------------------------------------------------\u001b[0m",
      "\u001b[1;31mModuleNotFoundError\u001b[0m                       Traceback (most recent call last)",
      "Cell \u001b[1;32mIn[153], line 1\u001b[0m\n\u001b[1;32m----> 1\u001b[0m \u001b[38;5;28;01mimport\u001b[39;00m \u001b[38;5;21;01mseaborn\u001b[39;00m \u001b[38;5;28;01mas\u001b[39;00m \u001b[38;5;21;01msns\u001b[39;00m\n\u001b[0;32m      3\u001b[0m sns\u001b[38;5;241m.\u001b[39mdisplot(list_chaos)\n",
      "\u001b[1;31mModuleNotFoundError\u001b[0m: No module named 'seaborn'"
     ]
    }
   ],
   "source": [
    "import seaborn as sns\n",
    "\n",
    "sns.displot(list_chaos)"
   ]
  }
 ],
 "metadata": {
  "kernelspec": {
   "display_name": "Python 3",
   "language": "python",
   "name": "python3"
  },
  "language_info": {
   "codemirror_mode": {
    "name": "ipython",
    "version": 3
   },
   "file_extension": ".py",
   "mimetype": "text/x-python",
   "name": "python",
   "nbconvert_exporter": "python",
   "pygments_lexer": "ipython3",
   "version": "3.11.2"
  }
 },
 "nbformat": 4,
 "nbformat_minor": 2
}
